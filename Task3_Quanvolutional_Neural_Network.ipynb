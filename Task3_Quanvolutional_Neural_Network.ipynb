{
  "nbformat": 4,
  "nbformat_minor": 0,
  "metadata": {
    "colab": {
      "provenance": []
    },
    "kernelspec": {
      "name": "python3",
      "display_name": "Python 3"
    },
    "language_info": {
      "name": "python"
    }
  },
  "cells": [
    {
      "cell_type": "markdown",
      "source": [
        "# Quanvolutional Neural Nets"
      ],
      "metadata": {
        "id": "btgzrSBtSi3Q"
      }
    },
    {
      "cell_type": "markdown",
      "source": [
        "The original writeup can be found here: https://pennylane.ai/qml/demos/tutorial_quanvolution/"
      ],
      "metadata": {
        "id": "nSFg10brfF3z"
      }
    },
    {
      "cell_type": "markdown",
      "source": [
        "The \"Quanvolutional Neural Network\" was originally introduced by Henderson et al. in 2019."
      ],
      "metadata": {
        "id": "gFhM3wSUS3SP"
      }
    },
    {
      "cell_type": "markdown",
      "source": [
        "## Intro"
      ],
      "metadata": {
        "id": "IB0hNXpySoTn"
      }
    },
    {
      "cell_type": "markdown",
      "source": [
        "### Classical Convolution"
      ],
      "metadata": {
        "id": "CD82MP73UIxB"
      }
    },
    {
      "cell_type": "markdown",
      "source": [
        "The concept of a convolutional neural network (CNN) is to have a convultional layer locally instead of processing all of the input data globally. CNNs are well-suited for processing images by using the same kernel to sequentially process small, local regions. The results of which are typically associated with different channels of a single output pixel. The resulting pixels are then unioned into a new object reminiscent of an image, which can then be processed by additional layers."
      ],
      "metadata": {
        "id": "dOw4mENih_R4"
      }
    },
    {
      "cell_type": "markdown",
      "source": [
        "### Quantum Convolution"
      ],
      "metadata": {
        "id": "60NNRNcMdew3"
      }
    },
    {
      "cell_type": "markdown",
      "source": [
        "## Setup"
      ],
      "metadata": {
        "id": "-6jjuKwFSsES"
      }
    },
    {
      "cell_type": "code",
      "source": [
        "!pip install pennylane\n",
        "!pip install tensorflow"
      ],
      "metadata": {
        "id": "12vZGus-UMjx",
        "colab": {
          "base_uri": "https://localhost:8080/"
        },
        "outputId": "0d594080-ee07-49df-fc2e-41ae866f9f00"
      },
      "execution_count": null,
      "outputs": [
        {
          "output_type": "stream",
          "name": "stdout",
          "text": [
            "Collecting pennylane\n",
            "  Downloading PennyLane-0.37.0-py3-none-any.whl.metadata (9.3 kB)\n",
            "Requirement already satisfied: numpy<2.0 in /usr/local/lib/python3.10/dist-packages (from pennylane) (1.26.4)\n",
            "Requirement already satisfied: scipy in /usr/local/lib/python3.10/dist-packages (from pennylane) (1.13.1)\n",
            "Requirement already satisfied: networkx in /usr/local/lib/python3.10/dist-packages (from pennylane) (3.3)\n",
            "Collecting rustworkx (from pennylane)\n",
            "  Downloading rustworkx-0.15.1-cp38-abi3-manylinux_2_17_x86_64.manylinux2014_x86_64.whl.metadata (9.9 kB)\n",
            "Requirement already satisfied: autograd in /usr/local/lib/python3.10/dist-packages (from pennylane) (1.6.2)\n",
            "Requirement already satisfied: toml in /usr/local/lib/python3.10/dist-packages (from pennylane) (0.10.2)\n",
            "Collecting appdirs (from pennylane)\n",
            "  Downloading appdirs-1.4.4-py2.py3-none-any.whl.metadata (9.0 kB)\n",
            "Collecting semantic-version>=2.7 (from pennylane)\n",
            "  Downloading semantic_version-2.10.0-py2.py3-none-any.whl.metadata (9.7 kB)\n",
            "Collecting autoray>=0.6.11 (from pennylane)\n",
            "  Downloading autoray-0.6.12-py3-none-any.whl.metadata (5.7 kB)\n",
            "Requirement already satisfied: cachetools in /usr/local/lib/python3.10/dist-packages (from pennylane) (5.4.0)\n",
            "Collecting pennylane-lightning>=0.37 (from pennylane)\n",
            "  Downloading PennyLane_Lightning-0.37.0-cp310-cp310-manylinux_2_28_x86_64.whl.metadata (23 kB)\n",
            "Requirement already satisfied: requests in /usr/local/lib/python3.10/dist-packages (from pennylane) (2.31.0)\n",
            "Requirement already satisfied: typing-extensions in /usr/local/lib/python3.10/dist-packages (from pennylane) (4.12.2)\n",
            "Requirement already satisfied: packaging in /usr/local/lib/python3.10/dist-packages (from pennylane) (24.1)\n",
            "Requirement already satisfied: future>=0.15.2 in /usr/local/lib/python3.10/dist-packages (from autograd->pennylane) (1.0.0)\n",
            "Requirement already satisfied: charset-normalizer<4,>=2 in /usr/local/lib/python3.10/dist-packages (from requests->pennylane) (3.3.2)\n",
            "Requirement already satisfied: idna<4,>=2.5 in /usr/local/lib/python3.10/dist-packages (from requests->pennylane) (3.7)\n",
            "Requirement already satisfied: urllib3<3,>=1.21.1 in /usr/local/lib/python3.10/dist-packages (from requests->pennylane) (2.0.7)\n",
            "Requirement already satisfied: certifi>=2017.4.17 in /usr/local/lib/python3.10/dist-packages (from requests->pennylane) (2024.7.4)\n",
            "Downloading PennyLane-0.37.0-py3-none-any.whl (1.8 MB)\n",
            "\u001b[2K   \u001b[90m━━━━━━━━━━━━━━━━━━━━━━━━━━━━━━━━━━━━━━━━\u001b[0m \u001b[32m1.8/1.8 MB\u001b[0m \u001b[31m8.4 MB/s\u001b[0m eta \u001b[36m0:00:00\u001b[0m\n",
            "\u001b[?25hDownloading autoray-0.6.12-py3-none-any.whl (50 kB)\n",
            "\u001b[2K   \u001b[90m━━━━━━━━━━━━━━━━━━━━━━━━━━━━━━━━━━━━━━━━\u001b[0m \u001b[32m51.0/51.0 kB\u001b[0m \u001b[31m2.0 MB/s\u001b[0m eta \u001b[36m0:00:00\u001b[0m\n",
            "\u001b[?25hDownloading PennyLane_Lightning-0.37.0-cp310-cp310-manylinux_2_28_x86_64.whl (15.5 MB)\n",
            "\u001b[2K   \u001b[90m━━━━━━━━━━━━━━━━━━━━━━━━━━━━━━━━━━━━━━━━\u001b[0m \u001b[32m15.5/15.5 MB\u001b[0m \u001b[31m16.3 MB/s\u001b[0m eta \u001b[36m0:00:00\u001b[0m\n",
            "\u001b[?25hDownloading semantic_version-2.10.0-py2.py3-none-any.whl (15 kB)\n",
            "Downloading appdirs-1.4.4-py2.py3-none-any.whl (9.6 kB)\n",
            "Downloading rustworkx-0.15.1-cp38-abi3-manylinux_2_17_x86_64.manylinux2014_x86_64.whl (2.0 MB)\n",
            "\u001b[2K   \u001b[90m━━━━━━━━━━━━━━━━━━━━━━━━━━━━━━━━━━━━━━━━\u001b[0m \u001b[32m2.0/2.0 MB\u001b[0m \u001b[31m31.2 MB/s\u001b[0m eta \u001b[36m0:00:00\u001b[0m\n",
            "\u001b[?25hInstalling collected packages: appdirs, semantic-version, rustworkx, autoray, pennylane-lightning, pennylane\n",
            "Successfully installed appdirs-1.4.4 autoray-0.6.12 pennylane-0.37.0 pennylane-lightning-0.37.0 rustworkx-0.15.1 semantic-version-2.10.0\n",
            "Requirement already satisfied: tensorflow in /usr/local/lib/python3.10/dist-packages (2.17.0)\n",
            "Requirement already satisfied: absl-py>=1.0.0 in /usr/local/lib/python3.10/dist-packages (from tensorflow) (1.4.0)\n",
            "Requirement already satisfied: astunparse>=1.6.0 in /usr/local/lib/python3.10/dist-packages (from tensorflow) (1.6.3)\n",
            "Requirement already satisfied: flatbuffers>=24.3.25 in /usr/local/lib/python3.10/dist-packages (from tensorflow) (24.3.25)\n",
            "Requirement already satisfied: gast!=0.5.0,!=0.5.1,!=0.5.2,>=0.2.1 in /usr/local/lib/python3.10/dist-packages (from tensorflow) (0.6.0)\n",
            "Requirement already satisfied: google-pasta>=0.1.1 in /usr/local/lib/python3.10/dist-packages (from tensorflow) (0.2.0)\n",
            "Requirement already satisfied: h5py>=3.10.0 in /usr/local/lib/python3.10/dist-packages (from tensorflow) (3.11.0)\n",
            "Requirement already satisfied: libclang>=13.0.0 in /usr/local/lib/python3.10/dist-packages (from tensorflow) (18.1.1)\n",
            "Requirement already satisfied: ml-dtypes<0.5.0,>=0.3.1 in /usr/local/lib/python3.10/dist-packages (from tensorflow) (0.4.0)\n",
            "Requirement already satisfied: opt-einsum>=2.3.2 in /usr/local/lib/python3.10/dist-packages (from tensorflow) (3.3.0)\n",
            "Requirement already satisfied: packaging in /usr/local/lib/python3.10/dist-packages (from tensorflow) (24.1)\n",
            "Requirement already satisfied: protobuf!=4.21.0,!=4.21.1,!=4.21.2,!=4.21.3,!=4.21.4,!=4.21.5,<5.0.0dev,>=3.20.3 in /usr/local/lib/python3.10/dist-packages (from tensorflow) (3.20.3)\n",
            "Requirement already satisfied: requests<3,>=2.21.0 in /usr/local/lib/python3.10/dist-packages (from tensorflow) (2.31.0)\n",
            "Requirement already satisfied: setuptools in /usr/local/lib/python3.10/dist-packages (from tensorflow) (71.0.4)\n",
            "Requirement already satisfied: six>=1.12.0 in /usr/local/lib/python3.10/dist-packages (from tensorflow) (1.16.0)\n",
            "Requirement already satisfied: termcolor>=1.1.0 in /usr/local/lib/python3.10/dist-packages (from tensorflow) (2.4.0)\n",
            "Requirement already satisfied: typing-extensions>=3.6.6 in /usr/local/lib/python3.10/dist-packages (from tensorflow) (4.12.2)\n",
            "Requirement already satisfied: wrapt>=1.11.0 in /usr/local/lib/python3.10/dist-packages (from tensorflow) (1.16.0)\n",
            "Requirement already satisfied: grpcio<2.0,>=1.24.3 in /usr/local/lib/python3.10/dist-packages (from tensorflow) (1.64.1)\n",
            "Requirement already satisfied: tensorboard<2.18,>=2.17 in /usr/local/lib/python3.10/dist-packages (from tensorflow) (2.17.0)\n",
            "Requirement already satisfied: keras>=3.2.0 in /usr/local/lib/python3.10/dist-packages (from tensorflow) (3.4.1)\n",
            "Requirement already satisfied: tensorflow-io-gcs-filesystem>=0.23.1 in /usr/local/lib/python3.10/dist-packages (from tensorflow) (0.37.1)\n",
            "Requirement already satisfied: numpy<2.0.0,>=1.23.5 in /usr/local/lib/python3.10/dist-packages (from tensorflow) (1.26.4)\n",
            "Requirement already satisfied: wheel<1.0,>=0.23.0 in /usr/local/lib/python3.10/dist-packages (from astunparse>=1.6.0->tensorflow) (0.43.0)\n",
            "Requirement already satisfied: rich in /usr/local/lib/python3.10/dist-packages (from keras>=3.2.0->tensorflow) (13.7.1)\n",
            "Requirement already satisfied: namex in /usr/local/lib/python3.10/dist-packages (from keras>=3.2.0->tensorflow) (0.0.8)\n",
            "Requirement already satisfied: optree in /usr/local/lib/python3.10/dist-packages (from keras>=3.2.0->tensorflow) (0.12.1)\n",
            "Requirement already satisfied: charset-normalizer<4,>=2 in /usr/local/lib/python3.10/dist-packages (from requests<3,>=2.21.0->tensorflow) (3.3.2)\n",
            "Requirement already satisfied: idna<4,>=2.5 in /usr/local/lib/python3.10/dist-packages (from requests<3,>=2.21.0->tensorflow) (3.7)\n",
            "Requirement already satisfied: urllib3<3,>=1.21.1 in /usr/local/lib/python3.10/dist-packages (from requests<3,>=2.21.0->tensorflow) (2.0.7)\n",
            "Requirement already satisfied: certifi>=2017.4.17 in /usr/local/lib/python3.10/dist-packages (from requests<3,>=2.21.0->tensorflow) (2024.7.4)\n",
            "Requirement already satisfied: markdown>=2.6.8 in /usr/local/lib/python3.10/dist-packages (from tensorboard<2.18,>=2.17->tensorflow) (3.6)\n",
            "Requirement already satisfied: tensorboard-data-server<0.8.0,>=0.7.0 in /usr/local/lib/python3.10/dist-packages (from tensorboard<2.18,>=2.17->tensorflow) (0.7.2)\n",
            "Requirement already satisfied: werkzeug>=1.0.1 in /usr/local/lib/python3.10/dist-packages (from tensorboard<2.18,>=2.17->tensorflow) (3.0.3)\n",
            "Requirement already satisfied: MarkupSafe>=2.1.1 in /usr/local/lib/python3.10/dist-packages (from werkzeug>=1.0.1->tensorboard<2.18,>=2.17->tensorflow) (2.1.5)\n",
            "Requirement already satisfied: markdown-it-py>=2.2.0 in /usr/local/lib/python3.10/dist-packages (from rich->keras>=3.2.0->tensorflow) (3.0.0)\n",
            "Requirement already satisfied: pygments<3.0.0,>=2.13.0 in /usr/local/lib/python3.10/dist-packages (from rich->keras>=3.2.0->tensorflow) (2.16.1)\n",
            "Requirement already satisfied: mdurl~=0.1 in /usr/local/lib/python3.10/dist-packages (from markdown-it-py>=2.2.0->rich->keras>=3.2.0->tensorflow) (0.1.2)\n"
          ]
        }
      ]
    },
    {
      "cell_type": "markdown",
      "source": [
        "For this exercise, we'll need to import Pennylane, TensorFlow, and matplotlib."
      ],
      "metadata": {
        "id": "fJx7TJSuAyAt"
      }
    },
    {
      "cell_type": "code",
      "source": [
        "# PennyLane import\n",
        "import pennylane as qml\n",
        "from pennylane import numpy as np\n",
        "from pennylane.templates import RandomLayers\n",
        "\n",
        "# TensorFlow import\n",
        "import tensorflow as tf\n",
        "from tensorflow import keras\n",
        "\n",
        "# Matplotlib import\n",
        "import matplotlib.pyplot as plt"
      ],
      "metadata": {
        "id": "lqcIBeSofDmm"
      },
      "execution_count": null,
      "outputs": []
    },
    {
      "cell_type": "markdown",
      "source": [
        "### Hyper-Parameter Setup"
      ],
      "metadata": {
        "id": "cO98mSBrUbDA"
      }
    },
    {
      "cell_type": "code",
      "source": [
        "n_epochs = 30   # Number of epochs over which to optimize\n",
        "n_layers = 1    # Number of random layers\n",
        "n_train = 50    # Size of the training dataset\n",
        "n_test = 30     # Size of the test dataset\n",
        "\n",
        "\n",
        "\n",
        "SAVE_PATH = \"../_static/demonstration_assets/quanvolution/\"  # Data saving folder\n",
        "PREPROCESS = True           # If False, skip quantum processing and load data from SAVE_PATH\n",
        "np.random.seed(0)           # Seed for NumPy random number generator\n",
        "tf.random.set_seed(0)       # Seed for TensorFlow random number generator"
      ],
      "metadata": {
        "id": "Dm5_CC7CUhSK"
      },
      "execution_count": null,
      "outputs": []
    },
    {
      "cell_type": "markdown",
      "source": [
        "### Loading the Dataset"
      ],
      "metadata": {
        "id": "0ak111eJUjix"
      }
    },
    {
      "cell_type": "markdown",
      "source": [
        "Since we'll be using the MNIST handwriting dataset, we can import that from Keras (in TensorFlow). For the sake of time, we'll be using only part of the dataset for this demonstration instead of training the neural network over the entire dataset. Note: This speedup in time can come at the expense of the accuracy of the model."
      ],
      "metadata": {
        "id": "x9JtiljZBS82"
      }
    },
    {
      "cell_type": "code",
      "source": [
        "# Importing the dataset from keras\n",
        "mnist_dataset = keras.datasets.mnist\n",
        "(train_images, train_labels), (test_images, test_labels) = mnist_dataset.load_data()\n",
        "\n",
        "# Reducing the dataset size to n_train data points (we set it to 50 above)\n",
        "train_images = train_images[:n_train]\n",
        "train_labels = train_labels[:n_train]\n",
        "\n",
        "# Reducing the dataset size to n_test data points (we set it to 30 above)\n",
        "test_images = test_images[:n_test]\n",
        "test_labels = test_labels[:n_test]\n",
        "\n",
        "# Normalizing pixel values within 0 and 1 since they're given as values gradient values of 0 to 255\n",
        "train_images = train_images / 255\n",
        "test_images = test_images / 255\n",
        "\n",
        "# Adding an extra dimension for convolution channels\n",
        "train_images = np.array(train_images[..., tf.newaxis], requires_grad=False)\n",
        "test_images = np.array(test_images[..., tf.newaxis], requires_grad=False)"
      ],
      "metadata": {
        "id": "hRQi2Uc5Uh7R",
        "colab": {
          "base_uri": "https://localhost:8080/"
        },
        "outputId": "d66e69ae-76ea-47b9-d119-9e28576a368f"
      },
      "execution_count": null,
      "outputs": [
        {
          "output_type": "stream",
          "name": "stdout",
          "text": [
            "Downloading data from https://storage.googleapis.com/tensorflow/tf-keras-datasets/mnist.npz\n",
            "\u001b[1m11490434/11490434\u001b[0m \u001b[32m━━━━━━━━━━━━━━━━━━━━\u001b[0m\u001b[37m\u001b[0m \u001b[1m0s\u001b[0m 0us/step\n"
          ]
        }
      ]
    },
    {
      "cell_type": "markdown",
      "source": [
        "## Using a Quantum Circuit as a Convolutional Kernel"
      ],
      "metadata": {
        "id": "T3CXLbRtU03D"
      }
    },
    {
      "cell_type": "markdown",
      "source": [
        "Our quantum circuit consists of\n",
        "1. an embedding layer of local Ry rotations (angles scaled by a factor of pi)\n",
        "2. a random circuit of n_layers\n",
        "3. a final measurement in the computational basis, estinating 4 expectation values\n",
        "\n",
        "All of this setup is performed on Pennylane's \"default.qubit\" simulator, established by the qnode set in the following code block."
      ],
      "metadata": {
        "id": "idusa0heDImO"
      }
    },
    {
      "cell_type": "code",
      "source": [
        "# Setting our quantum device (in this case, a Pennylane simulator)\n",
        "dev = qml.device(\"default.qubit\", wires=4)\n",
        "\n",
        "# Random circuit parameters\n",
        "rand_params = np.random.uniform(high=2 * np.pi, size=(n_layers, 4))\n",
        "\n",
        "# Establishing a qnode for our device\n",
        "@qml.qnode(dev)\n",
        "\n",
        "# Defining our circuit function\n",
        "def circuit(phi):\n",
        "    \"\"\"Set up the random quantum circuit, including application of an RY gate to encode our data.\n",
        "\n",
        "    Args:\n",
        "        phi (float): Value by which we want to multiply pi to perform a rotation\n",
        "          about the y-axis.\n",
        "\n",
        "    Returns:\n",
        "        tensor: The expectation value of PauliZ.\n",
        "    \"\"\"\n",
        "\n",
        "    # Encoding of 4 classical input values\n",
        "    for j in range(4):\n",
        "        qml.RY(np.pi * phi[j], wires=j)\n",
        "\n",
        "    # Random quantum circuit\n",
        "    RandomLayers(rand_params, wires=list(range(4)))\n",
        "\n",
        "    # Measurement producing 4 classical output values\n",
        "    return [qml.expval(qml.PauliZ(j)) for j in range(4)]"
      ],
      "metadata": {
        "id": "hbrDzUcYUqKj"
      },
      "execution_count": null,
      "outputs": []
    },
    {
      "cell_type": "markdown",
      "source": [
        "This next part defines our convolution:\n",
        "1. The image is broken down in 2x2-pixel squares\n",
        "2. Each of these 2x2 squares is then processed.\n",
        "3. The resulting 4 expectation values are subsequently mapped into 4 different channels of a single pixel for the output.\n",
        "\n",
        "This reduces the resolution of the input image by half, corresponding to a stride of 2 with a 2x2 kernel convolution."
      ],
      "metadata": {
        "id": "5Khf6JIlEH-9"
      }
    },
    {
      "cell_type": "code",
      "source": [
        "# Defining our quanv function\n",
        "def quanv(image):\n",
        "    \"\"\"Convolves the input image with many applications of the same quantum circuit.\"\"\"\n",
        "\n",
        "    # Setting an array of zeros that we can fill in later with actual data\n",
        "    out = np.zeros((14, 14, 4))\n",
        "\n",
        "    # Looping over coordinates of the top-left pixel of 2x2 squares\n",
        "    for j in range(0, 28, 2):\n",
        "        for k in range(0, 28, 2):\n",
        "            # Processing a squared 2x2 region of the image with a quantum circuit\n",
        "            q_results = circuit(\n",
        "                [\n",
        "                    image[j, k, 0],                 # top left\n",
        "                    image[j, k + 1, 0],             # top right\n",
        "                    image[j + 1, k, 0],             # bottom left\n",
        "                    image[j + 1, k + 1, 0]          # bottom right\n",
        "                ]\n",
        "            )\n",
        "            # Assigning expectation values to different channels of the output pixel (j/2, k/2)\n",
        "            for c in range(4):\n",
        "                out[j // 2, k // 2, c] = q_results[c]\n",
        "    return out"
      ],
      "metadata": {
        "id": "9x6m3A4rU_ZI"
      },
      "execution_count": null,
      "outputs": []
    },
    {
      "cell_type": "markdown",
      "source": [
        "### Pre-Processing the Data (Images)"
      ],
      "metadata": {
        "id": "6rrHGI42VGOz"
      }
    },
    {
      "cell_type": "markdown",
      "source": [
        "It is more efficient to use the quantum layer as a pre-processing layer for the image data instead of training that convolutional layer, so that's exactly what we'll do next. It's the classical layer(s) which will be trained and tested to avoid unnecessary repetitions of quantum computations (on our simulator or on a real device should we choose to use it).\n",
        "\n",
        "Note: Since we are preprocessing the images below and saving them in another folder, by changing \"PREPROCESS == TRUE\" to \"PREPROCESS == FALSE\" in our hyperparameter setup, we can avoid preprocessing the data each subsequent time the code is run."
      ],
      "metadata": {
        "id": "0p-VnumY1du7"
      }
    },
    {
      "cell_type": "code",
      "source": [
        "# Only pre-process if \"PREPROCESS\" is set to \"True\", which we did in our hyper-parameter setup code block\n",
        "if PREPROCESS == True:\n",
        "    # Creating an empty list to which we'll append our training data\n",
        "    q_train_images = []\n",
        "    print(\"Quantum pre-processing of train images:\")\n",
        "    # Enumerating over index and image in the training data\n",
        "    for idx, img in enumerate(train_images):\n",
        "        print(\"{}/{}        \".format(idx + 1, n_train), end=\"\\r\")\n",
        "        # Appending convoluted image data to list\n",
        "        q_train_images.append(quanv(img))\n",
        "    # Converting our list to a numpy array\n",
        "    q_train_images = np.asarray(q_train_images)\n",
        "\n",
        "    # Creating an empty list to which we'll append our test data\n",
        "    q_test_images = []\n",
        "    print(\"\\nQuantum pre-processing of test images:\")\n",
        "    # Enumerating over index and image in the test data\n",
        "    for idx, img in enumerate(test_images):\n",
        "        print(\"{}/{}        \".format(idx + 1, n_test), end=\"\\r\")\n",
        "        # Appending convoluted image data to list\n",
        "        q_test_images.append(quanv(img))\n",
        "    # Converting our list to a numpy array\n",
        "    q_test_images = np.asarray(q_test_images)\n",
        "\n",
        "    # Saving pre-processed images for both training and test datasets\n",
        "    np.save(SAVE_PATH + \"q_train_images.npy\", q_train_images)\n",
        "    np.save(SAVE_PATH + \"q_test_images.npy\", q_test_images)\n",
        "\n",
        "\n",
        "# Loading pre-processed images from the directory in which we saved them\n",
        "q_train_images = np.load(SAVE_PATH + \"q_train_images.npy\")\n",
        "q_test_images = np.load(SAVE_PATH + \"q_test_images.npy\")"
      ],
      "metadata": {
        "colab": {
          "base_uri": "https://localhost:8080/"
        },
        "id": "xhSjkMNwVB_e",
        "outputId": "1bc906df-e711-4e5f-eecc-c901ae5b7cdc"
      },
      "execution_count": null,
      "outputs": [
        {
          "output_type": "stream",
          "name": "stdout",
          "text": [
            "Quantum pre-processing of train images:\n",
            "\n",
            "Quantum pre-processing of test images:\n"
          ]
        }
      ]
    },
    {
      "cell_type": "markdown",
      "source": [
        "### Visualizing the Effects of the Convolution (Input vs. Each Output Channel)"
      ],
      "metadata": {
        "id": "gajl2DcQ1Rqy"
      }
    },
    {
      "cell_type": "code",
      "source": [
        "n_samples = 4\n",
        "n_channels = 4\n",
        "fig, axes = plt.subplots(1 + n_channels, n_samples, figsize=(10, 10))\n",
        "for k in range(n_samples):\n",
        "    axes[0, 0].set_ylabel(\"Input\")\n",
        "    if k != 0:\n",
        "        axes[0, k].yaxis.set_visible(False)\n",
        "    axes[0, k].imshow(train_images[k, :, :, 0], cmap=\"gray\")\n",
        "\n",
        "    # Plot all output channels\n",
        "    for c in range(n_channels):\n",
        "        axes[c + 1, 0].set_ylabel(\"Output [ch. {}]\".format(c))\n",
        "        if k != 0:\n",
        "            axes[c, k].yaxis.set_visible(False)\n",
        "        axes[c + 1, k].imshow(q_train_images[k, :, :, c], cmap=\"gray\")\n",
        "\n",
        "plt.tight_layout()\n",
        "plt.show()"
      ],
      "metadata": {
        "id": "uFoExezoVM2D",
        "colab": {
          "base_uri": "https://localhost:8080/",
          "height": 773
        },
        "outputId": "4dd52714-bc99-4c80-95f9-fdc94af41b25"
      },
      "execution_count": null,
      "outputs": [
        {
          "output_type": "display_data",
          "data": {
            "text/plain": [
              "<Figure size 1000x1000 with 20 Axes>"
            ],
            "image/png": "[encoded data removed]"
          },
          "metadata": {}
        }
      ]
    },
    {
      "cell_type": "markdown",
      "source": [
        "## Hybrid Quantum-Classical Model"
      ],
      "metadata": {
        "id": "vaqOEENFWqlD"
      }
    },
    {
      "cell_type": "markdown",
      "source": [
        "After the quantum convolutional layer, the resulting features are fed into the next layer, a classical neural network, that will be trained to classify the 10 digits in the dataset.\n",
        "\n",
        "This classical model is composed of a single layer with 10 output nodes and a softmax activation function. It is compiled with a stochastic-gradient-descent optimizer and a cross-entropy loss function."
      ],
      "metadata": {
        "id": "dkGjeo2L_q9K"
      }
    },
    {
      "cell_type": "code",
      "source": [
        "# Defining the classical part of the model\n",
        "def MyModel():\n",
        "    \"\"\"Initializes and returns a custom Keras model\n",
        "    which is ready to be trained.\"\"\"\n",
        "    # Initializing the sequential model\n",
        "    model = keras.models.Sequential([ ##################\n",
        "        keras.layers.Flatten(), ##################\n",
        "        keras.layers.Dense(10, activation=\"softmax\") ##################\n",
        "    ])\n",
        "\n",
        "    # Compiling the model\n",
        "    model.compile(\n",
        "        optimizer='adam', ##################\n",
        "        loss=\"sparse_categorical_crossentropy\", ##################\n",
        "        metrics=[\"accuracy\"], ##################\n",
        "    )\n",
        "    return model"
      ],
      "metadata": {
        "id": "RM6m1tREWt53"
      },
      "execution_count": null,
      "outputs": []
    },
    {
      "cell_type": "markdown",
      "source": [
        "### Training"
      ],
      "metadata": {
        "id": "ZVWOs39eWwM_"
      }
    },
    {
      "cell_type": "markdown",
      "source": [
        "We instantiate our model that we will use on the data that has been pre-processed by our quantum layer."
      ],
      "metadata": {
        "id": "pdai1nBYExCa"
      }
    },
    {
      "cell_type": "code",
      "source": [
        "# Establishing our quantum model\n",
        "q_model = MyModel()\n",
        "\n",
        "# Fitting the model on the quantum training images + labels, referencing test data for validation, and using hyper-parameter specifications\n",
        "q_history = q_model.fit(\n",
        "    q_train_images,\n",
        "    train_labels,\n",
        "    validation_data=(q_test_images, test_labels),\n",
        "    batch_size=4,\n",
        "    epochs=n_epochs,\n",
        "    verbose=2,\n",
        ")"
      ],
      "metadata": {
        "id": "fo5wJXMmWxHP",
        "colab": {
          "base_uri": "https://localhost:8080/"
        },
        "outputId": "4a35befd-cc2a-478b-f313-800cb3160607"
      },
      "execution_count": null,
      "outputs": [
        {
          "output_type": "stream",
          "name": "stdout",
          "text": [
            "Epoch 1/30\n",
            "13/13 - 1s - 85ms/step - accuracy: 0.1000 - loss: 2.7170 - val_accuracy: 0.1667 - val_loss: 2.3048\n",
            "Epoch 2/30\n",
            "13/13 - 0s - 6ms/step - accuracy: 0.3000 - loss: 1.9869 - val_accuracy: 0.2000 - val_loss: 2.1188\n",
            "Epoch 3/30\n",
            "13/13 - 0s - 6ms/step - accuracy: 0.5600 - loss: 1.6577 - val_accuracy: 0.2667 - val_loss: 1.9669\n",
            "Epoch 4/30\n",
            "13/13 - 0s - 11ms/step - accuracy: 0.7000 - loss: 1.3414 - val_accuracy: 0.3000 - val_loss: 1.8031\n",
            "Epoch 5/30\n",
            "13/13 - 0s - 6ms/step - accuracy: 0.8600 - loss: 1.1026 - val_accuracy: 0.4333 - val_loss: 1.6997\n",
            "Epoch 6/30\n",
            "13/13 - 0s - 10ms/step - accuracy: 0.9400 - loss: 0.9089 - val_accuracy: 0.5000 - val_loss: 1.6095\n",
            "Epoch 7/30\n",
            "13/13 - 0s - 7ms/step - accuracy: 0.9800 - loss: 0.7546 - val_accuracy: 0.5333 - val_loss: 1.5303\n",
            "Epoch 8/30\n",
            "13/13 - 0s - 6ms/step - accuracy: 1.0000 - loss: 0.6348 - val_accuracy: 0.5667 - val_loss: 1.4683\n",
            "Epoch 9/30\n",
            "13/13 - 0s - 6ms/step - accuracy: 1.0000 - loss: 0.5389 - val_accuracy: 0.6000 - val_loss: 1.4158\n",
            "Epoch 10/30\n",
            "13/13 - 0s - 7ms/step - accuracy: 1.0000 - loss: 0.4625 - val_accuracy: 0.6000 - val_loss: 1.3716\n",
            "Epoch 11/30\n",
            "13/13 - 0s - 6ms/step - accuracy: 1.0000 - loss: 0.4011 - val_accuracy: 0.6333 - val_loss: 1.3343\n",
            "Epoch 12/30\n",
            "13/13 - 0s - 11ms/step - accuracy: 1.0000 - loss: 0.3510 - val_accuracy: 0.6333 - val_loss: 1.3026\n",
            "Epoch 13/30\n",
            "13/13 - 0s - 7ms/step - accuracy: 1.0000 - loss: 0.3097 - val_accuracy: 0.6333 - val_loss: 1.2754\n",
            "Epoch 14/30\n",
            "13/13 - 0s - 10ms/step - accuracy: 1.0000 - loss: 0.2753 - val_accuracy: 0.6333 - val_loss: 1.2520\n",
            "Epoch 15/30\n",
            "13/13 - 0s - 10ms/step - accuracy: 1.0000 - loss: 0.2465 - val_accuracy: 0.6333 - val_loss: 1.2316\n",
            "Epoch 16/30\n",
            "13/13 - 0s - 6ms/step - accuracy: 1.0000 - loss: 0.2221 - val_accuracy: 0.6333 - val_loss: 1.2139\n",
            "Epoch 17/30\n",
            "13/13 - 0s - 12ms/step - accuracy: 1.0000 - loss: 0.2012 - val_accuracy: 0.6333 - val_loss: 1.1982\n",
            "Epoch 18/30\n",
            "13/13 - 0s - 7ms/step - accuracy: 1.0000 - loss: 0.1832 - val_accuracy: 0.6333 - val_loss: 1.1844\n",
            "Epoch 19/30\n",
            "13/13 - 0s - 6ms/step - accuracy: 1.0000 - loss: 0.1677 - val_accuracy: 0.6333 - val_loss: 1.1720\n",
            "Epoch 20/30\n",
            "13/13 - 0s - 10ms/step - accuracy: 1.0000 - loss: 0.1541 - val_accuracy: 0.6333 - val_loss: 1.1610\n",
            "Epoch 21/30\n",
            "13/13 - 0s - 6ms/step - accuracy: 1.0000 - loss: 0.1422 - val_accuracy: 0.6333 - val_loss: 1.1510\n",
            "Epoch 22/30\n",
            "13/13 - 0s - 11ms/step - accuracy: 1.0000 - loss: 0.1317 - val_accuracy: 0.6333 - val_loss: 1.1420\n",
            "Epoch 23/30\n",
            "13/13 - 0s - 6ms/step - accuracy: 1.0000 - loss: 0.1224 - val_accuracy: 0.6333 - val_loss: 1.1339\n",
            "Epoch 24/30\n",
            "13/13 - 0s - 7ms/step - accuracy: 1.0000 - loss: 0.1141 - val_accuracy: 0.6333 - val_loss: 1.1264\n",
            "Epoch 25/30\n",
            "13/13 - 0s - 7ms/step - accuracy: 1.0000 - loss: 0.1067 - val_accuracy: 0.6333 - val_loss: 1.1196\n",
            "Epoch 26/30\n",
            "13/13 - 0s - 9ms/step - accuracy: 1.0000 - loss: 0.1000 - val_accuracy: 0.6333 - val_loss: 1.1133\n",
            "Epoch 27/30\n",
            "13/13 - 0s - 8ms/step - accuracy: 1.0000 - loss: 0.0940 - val_accuracy: 0.6333 - val_loss: 1.1075\n",
            "Epoch 28/30\n",
            "13/13 - 0s - 10ms/step - accuracy: 1.0000 - loss: 0.0885 - val_accuracy: 0.6333 - val_loss: 1.1022\n",
            "Epoch 29/30\n",
            "13/13 - 0s - 10ms/step - accuracy: 1.0000 - loss: 0.0835 - val_accuracy: 0.6333 - val_loss: 1.0972\n",
            "Epoch 30/30\n",
            "13/13 - 0s - 11ms/step - accuracy: 1.0000 - loss: 0.0790 - val_accuracy: 0.6333 - val_loss: 1.0926\n"
          ]
        }
      ]
    },
    {
      "cell_type": "markdown",
      "source": [
        "Next, we will instantiate our purely classical model with our initial image data (not the data that has been pre-processed by a quantum later as above)."
      ],
      "metadata": {
        "id": "ZRbCULZyFWzW"
      }
    },
    {
      "cell_type": "code",
      "source": [
        "# Establishing our classical model\n",
        "c_model = MyModel()\n",
        "\n",
        "# Similar to the quantum model but using original \"train_images\" and \"test_images\" as opposed to \"q_train_images\" or \"q_test_images\" as the quantum did\n",
        "c_history = c_model.fit(\n",
        "    train_images,\n",
        "    train_labels,\n",
        "    validation_data=(test_images, test_labels),\n",
        "    batch_size=4,\n",
        "    epochs=n_epochs,\n",
        "    verbose=2,\n",
        ")"
      ],
      "metadata": {
        "id": "gf23pyWvW2Rg",
        "colab": {
          "base_uri": "https://localhost:8080/"
        },
        "outputId": "4ec6ebb3-ac6d-4a78-dbd1-8eb7f7b8e91f"
      },
      "execution_count": null,
      "outputs": [
        {
          "output_type": "stream",
          "name": "stdout",
          "text": [
            "Epoch 1/30\n",
            "13/13 - 1s - 68ms/step - accuracy: 0.1000 - loss: 2.2782 - val_accuracy: 0.2000 - val_loss: 2.1962\n",
            "Epoch 2/30\n",
            "13/13 - 0s - 11ms/step - accuracy: 0.4800 - loss: 1.8730 - val_accuracy: 0.3000 - val_loss: 2.0651\n",
            "Epoch 3/30\n",
            "13/13 - 0s - 10ms/step - accuracy: 0.7000 - loss: 1.5906 - val_accuracy: 0.3000 - val_loss: 1.9402\n",
            "Epoch 4/30\n",
            "13/13 - 0s - 11ms/step - accuracy: 0.8000 - loss: 1.3599 - val_accuracy: 0.3333 - val_loss: 1.8213\n",
            "Epoch 5/30\n",
            "13/13 - 0s - 9ms/step - accuracy: 0.8600 - loss: 1.1694 - val_accuracy: 0.4000 - val_loss: 1.7152\n",
            "Epoch 6/30\n",
            "13/13 - 0s - 8ms/step - accuracy: 0.9200 - loss: 1.0123 - val_accuracy: 0.4333 - val_loss: 1.6250\n",
            "Epoch 7/30\n",
            "13/13 - 0s - 11ms/step - accuracy: 0.9600 - loss: 0.8824 - val_accuracy: 0.5000 - val_loss: 1.5493\n",
            "Epoch 8/30\n",
            "13/13 - 0s - 6ms/step - accuracy: 0.9800 - loss: 0.7744 - val_accuracy: 0.5667 - val_loss: 1.4857\n",
            "Epoch 9/30\n",
            "13/13 - 0s - 6ms/step - accuracy: 0.9800 - loss: 0.6839 - val_accuracy: 0.6333 - val_loss: 1.4318\n",
            "Epoch 10/30\n",
            "13/13 - 0s - 10ms/step - accuracy: 0.9800 - loss: 0.6075 - val_accuracy: 0.6333 - val_loss: 1.3856\n",
            "Epoch 11/30\n",
            "13/13 - 0s - 11ms/step - accuracy: 1.0000 - loss: 0.5425 - val_accuracy: 0.6333 - val_loss: 1.3459\n",
            "Epoch 12/30\n",
            "13/13 - 0s - 10ms/step - accuracy: 1.0000 - loss: 0.4870 - val_accuracy: 0.6333 - val_loss: 1.3115\n",
            "Epoch 13/30\n",
            "13/13 - 0s - 12ms/step - accuracy: 1.0000 - loss: 0.4392 - val_accuracy: 0.6333 - val_loss: 1.2815\n",
            "Epoch 14/30\n",
            "13/13 - 0s - 9ms/step - accuracy: 1.0000 - loss: 0.3979 - val_accuracy: 0.6333 - val_loss: 1.2553\n",
            "Epoch 15/30\n",
            "13/13 - 0s - 7ms/step - accuracy: 1.0000 - loss: 0.3619 - val_accuracy: 0.6333 - val_loss: 1.2324\n",
            "Epoch 16/30\n",
            "13/13 - 0s - 8ms/step - accuracy: 1.0000 - loss: 0.3305 - val_accuracy: 0.6333 - val_loss: 1.2121\n",
            "Epoch 17/30\n",
            "13/13 - 0s - 9ms/step - accuracy: 1.0000 - loss: 0.3029 - val_accuracy: 0.6333 - val_loss: 1.1942\n",
            "Epoch 18/30\n",
            "13/13 - 0s - 10ms/step - accuracy: 1.0000 - loss: 0.2786 - val_accuracy: 0.6333 - val_loss: 1.1783\n",
            "Epoch 19/30\n",
            "13/13 - 0s - 9ms/step - accuracy: 1.0000 - loss: 0.2571 - val_accuracy: 0.6333 - val_loss: 1.1641\n",
            "Epoch 20/30\n",
            "13/13 - 0s - 13ms/step - accuracy: 1.0000 - loss: 0.2380 - val_accuracy: 0.6333 - val_loss: 1.1513\n",
            "Epoch 21/30\n",
            "13/13 - 0s - 19ms/step - accuracy: 1.0000 - loss: 0.2209 - val_accuracy: 0.6333 - val_loss: 1.1399\n",
            "Epoch 22/30\n",
            "13/13 - 0s - 11ms/step - accuracy: 1.0000 - loss: 0.2057 - val_accuracy: 0.6333 - val_loss: 1.1296\n",
            "Epoch 23/30\n",
            "13/13 - 0s - 9ms/step - accuracy: 1.0000 - loss: 0.1919 - val_accuracy: 0.6333 - val_loss: 1.1202\n",
            "Epoch 24/30\n",
            "13/13 - 0s - 11ms/step - accuracy: 1.0000 - loss: 0.1796 - val_accuracy: 0.6333 - val_loss: 1.1118\n",
            "Epoch 25/30\n",
            "13/13 - 0s - 10ms/step - accuracy: 1.0000 - loss: 0.1684 - val_accuracy: 0.6333 - val_loss: 1.1040\n",
            "Epoch 26/30\n",
            "13/13 - 0s - 9ms/step - accuracy: 1.0000 - loss: 0.1582 - val_accuracy: 0.6333 - val_loss: 1.0970\n",
            "Epoch 27/30\n",
            "13/13 - 0s - 11ms/step - accuracy: 1.0000 - loss: 0.1490 - val_accuracy: 0.6667 - val_loss: 1.0905\n",
            "Epoch 28/30\n",
            "13/13 - 0s - 23ms/step - accuracy: 1.0000 - loss: 0.1406 - val_accuracy: 0.6667 - val_loss: 1.0846\n",
            "Epoch 29/30\n",
            "13/13 - 0s - 10ms/step - accuracy: 1.0000 - loss: 0.1329 - val_accuracy: 0.6667 - val_loss: 1.0792\n",
            "Epoch 30/30\n",
            "13/13 - 0s - 11ms/step - accuracy: 1.0000 - loss: 0.1258 - val_accuracy: 0.6667 - val_loss: 1.0741\n"
          ]
        }
      ]
    },
    {
      "cell_type": "markdown",
      "source": [
        "## Results"
      ],
      "metadata": {
        "id": "Dl4IVJ0HW4W0"
      }
    },
    {
      "cell_type": "markdown",
      "source": [
        "We now want to visualize how the accuracy and loss changed with each epoch, so we will use MatPlotLib's PyPlot to visualize these changes."
      ],
      "metadata": {
        "id": "WGBvcKKgFzLP"
      }
    },
    {
      "cell_type": "code",
      "source": [
        "# Using seaborn style of pyplot\n",
        "plt.style.use(\"seaborn\")\n",
        "fig, (ax1, ax2) = plt.subplots(2, 1, figsize=(6, 9))\n",
        "\n",
        "# Plotting the accuracy across the epochs to visualize the change\n",
        "ax1.plot(q_history.history[\"val_accuracy\"], \"-ob\", label=\"With quantum layer\")\n",
        "ax1.plot(c_history.history[\"val_accuracy\"], \"-og\", label=\"Without quantum layer\")\n",
        "ax1.set_ylabel(\"Accuracy\")\n",
        "ax1.set_ylim([0, 1])\n",
        "ax1.set_xlabel(\"Epoch\")\n",
        "ax1.legend()\n",
        "\n",
        "# Plotting the loss across the epochs to visualize the change\n",
        "ax2.plot(q_history.history[\"val_loss\"], \"-ob\", label=\"With quantum layer\")\n",
        "ax2.plot(c_history.history[\"val_loss\"], \"-og\", label=\"Without quantum layer\")\n",
        "ax2.set_ylabel(\"Loss\")\n",
        "ax2.set_ylim(top=2.5)\n",
        "ax2.set_xlabel(\"Epoch\")\n",
        "ax2.legend()\n",
        "plt.tight_layout()\n",
        "plt.show()"
      ],
      "metadata": {
        "id": "ISTQPuh2W7xe",
        "colab": {
          "base_uri": "https://localhost:8080/",
          "height": 962
        },
        "outputId": "0cd8e02e-d4e3-4f93-e797-7522b1bf364c"
      },
      "execution_count": null,
      "outputs": [
        {
          "output_type": "stream",
          "name": "stderr",
          "text": [
            "<ipython-input-16-c3ef9ba498fb>:3: MatplotlibDeprecationWarning: The seaborn styles shipped by Matplotlib are deprecated since 3.6, as they no longer correspond to the styles shipped by seaborn. However, they will remain available as 'seaborn-v0_8-<style>'. Alternatively, directly use the seaborn API instead.\n",
            "  plt.style.use(\"seaborn\")\n"
          ]
        },
        {
          "output_type": "display_data",
          "data": {
            "text/plain": [
              "<Figure size 600x900 with 2 Axes>"
            ],
            "image/png": "[encoded data removed]"
          },
          "metadata": {}
        }
      ]
    }
  ]
}