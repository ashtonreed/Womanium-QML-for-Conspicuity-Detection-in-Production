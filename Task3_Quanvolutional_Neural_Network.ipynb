{
  "nbformat": 4,
  "nbformat_minor": 0,
  "metadata": {
    "colab": {
      "provenance": []
    },
    "kernelspec": {
      "name": "python3",
      "display_name": "Python 3"
    },
    "language_info": {
      "name": "python"
    }
  },
  "cells": [
    {
      "cell_type": "markdown",
      "source": [
        "# Quanvolutional Neural Nets"
      ],
      "metadata": {
        "id": "btgzrSBtSi3Q"
      }
    },
    {
      "cell_type": "markdown",
      "source": [
        "The original writeup can be found here: https://pennylane.ai/qml/demos/tutorial_quanvolution/"
      ],
      "metadata": {
        "id": "nSFg10brfF3z"
      }
    },
    {
      "cell_type": "markdown",
      "source": [
        "The \"Quanvolutional Neural Network\" was originally introduced by Henderson et al. in 2019, and more informationn about the paper can be found here: https://arxiv.org/abs/1904.04767"
      ],
      "metadata": {
        "id": "gFhM3wSUS3SP"
      }
    },
    {
      "cell_type": "markdown",
      "source": [
        "## Intro"
      ],
      "metadata": {
        "id": "IB0hNXpySoTn"
      }
    },
    {
      "cell_type": "markdown",
      "source": [
        "### Classical Convolution"
      ],
      "metadata": {
        "id": "CD82MP73UIxB"
      }
    },
    {
      "cell_type": "markdown",
      "source": [
        "In machine learning, the concept of a convolutional neural network (CNN) model is to have a local convultional layer instead of processing all of the input data globally, and CNNs are well-suited for processing images by using the same kernel to sequentially process small, local regions. The results of this convolution are typically associated with different channels of a single output pixel. The resulting output pixels are then unioned into a new object reminiscent of an image, which can then be processed by additional layers."
      ],
      "metadata": {
        "id": "dOw4mENih_R4"
      }
    },
    {
      "cell_type": "markdown",
      "source": [
        "### Quantum Convolution"
      ],
      "metadata": {
        "id": "60NNRNcMdew3"
      }
    },
    {
      "cell_type": "markdown",
      "source": [
        "Quantum convolution is similar to the classical form described above. The following approach is similar to the one demonstrated and represented in this tutorial--not the only approach to solving this problem. \\\n",
        "1. A small region of the image is embedding into a quantum circuit (through a process of something like parametrized rotations of the qubits that are initialized in the ground state).\n",
        "2. Then, a quantum computation (unitary, U) is performed on the system.\n",
        "3. The quantum system is measured to obtain a list of classical expectation values (in our specific case, the raw expectation values for PauliZ). Note: it is also possible to classically post-process these results before using them in the next layer(s).\n",
        "4. Just like with classical convolution layers, each expectation value is mapped to a separate output channel consisting of a single pixel.\n",
        "5. After this process has been repeated over the various regions of the image (in our case, many 2x2 regions that overlap), the image can be essentially \"reassembled\" in a lower fidelity image structured as a multi-channel image.\n",
        "6. The quantum convolution part of this model can be proceeded by a number of layers that are either quantum or classical. \\\n",
        "Quantum circuits are useful for convolutional neural networks because they can generate \"highly complex kernels\" whose computation could theoretically be intractable for classical computers.\n",
        "\n"
      ],
      "metadata": {
        "id": "aD_kVybPzSPB"
      }
    },
    {
      "cell_type": "markdown",
      "source": [
        "## Setup"
      ],
      "metadata": {
        "id": "-6jjuKwFSsES"
      }
    },
    {
      "cell_type": "markdown",
      "source": [
        "Uncomment the cells below to install pennylane and tensorflow if they are not already on your machine."
      ],
      "metadata": {
        "id": "08cUhi7-twJM"
      }
    },
    {
      "cell_type": "code",
      "source": [
        "# !pip install pennylane\n",
        "# !pip install tensorflow"
      ],
      "metadata": {
        "id": "12vZGus-UMjx"
      },
      "execution_count": null,
      "outputs": []
    },
    {
      "cell_type": "markdown",
      "source": [
        "For this exercise, we'll need to import Pennylane, TensorFlow, and matplotlib."
      ],
      "metadata": {
        "id": "fJx7TJSuAyAt"
      }
    },
    {
      "cell_type": "code",
      "source": [
        "# PennyLane import\n",
        "import pennylane as qml\n",
        "from pennylane import numpy as np\n",
        "from pennylane.templates import RandomLayers\n",
        "\n",
        "# TensorFlow import\n",
        "import tensorflow as tf\n",
        "from tensorflow import keras\n",
        "\n",
        "# Matplotlib import\n",
        "import matplotlib.pyplot as plt"
      ],
      "metadata": {
        "id": "lqcIBeSofDmm"
      },
      "execution_count": null,
      "outputs": []
    },
    {
      "cell_type": "markdown",
      "source": [
        "### Hyper-Parameter Setup"
      ],
      "metadata": {
        "id": "cO98mSBrUbDA"
      }
    },
    {
      "cell_type": "markdown",
      "source": [
        "Here, we want to set up our hyper-parameters that we can easily tweak later on (i.e. number of epochs and layers or the data points in the datasets for training and testing)."
      ],
      "metadata": {
        "id": "-oIFtmIX0gYh"
      }
    },
    {
      "cell_type": "code",
      "source": [
        "n_epochs = 30   # Number of epochs over which to optimize\n",
        "n_layers = 1    # Number of random layers\n",
        "n_train = 50    # Size of the training dataset\n",
        "n_test = 30     # Size of the test dataset\n",
        "\n",
        "\n",
        "# To save time later, we will save the processed data to the path below so we can skip the preprocess step in future executions\n",
        "SAVE_PATH = \"../_static/demonstration_assets/quanvolution/\"  # Data saving folder\n",
        "PREPROCESS = True           # If False, skip quantum processing and load data from SAVE_PATH\n",
        "\n",
        "# Set the random seed so that we get the same randomness each time and can better compare our results\n",
        "np.random.seed(0)           # Seed for NumPy random number generator\n",
        "tf.random.set_seed(0)       # Seed for TensorFlow random number generator"
      ],
      "metadata": {
        "id": "Dm5_CC7CUhSK"
      },
      "execution_count": null,
      "outputs": []
    },
    {
      "cell_type": "markdown",
      "source": [
        "### Loading the Dataset"
      ],
      "metadata": {
        "id": "0ak111eJUjix"
      }
    },
    {
      "cell_type": "markdown",
      "source": [
        "Since we'll be using the MNIST handwriting dataset, we can import that from Keras (in TensorFlow). For the sake of time, we'll be using only part of the dataset for this demonstration instead of training the neural network over the entire dataset. Note: This speedup in time can come at the expense of the accuracy of the model."
      ],
      "metadata": {
        "id": "x9JtiljZBS82"
      }
    },
    {
      "cell_type": "code",
      "source": [
        "# Import the dataset from keras\n",
        "mnist_dataset = keras.datasets.mnist\n",
        "(train_images, train_labels), (test_images, test_labels) = mnist_dataset.load_data()\n",
        "\n",
        "# Reduce the dataset size to n_train data points (we set it to 50 above)\n",
        "train_images = train_images[:n_train]\n",
        "train_labels = train_labels[:n_train]\n",
        "\n",
        "# Reduce the dataset size to n_test data points (we set it to 30 above)\n",
        "test_images = test_images[:n_test]\n",
        "test_labels = test_labels[:n_test]\n",
        "\n",
        "# Normalize pixel values within 0 and 1 since they're given as values gradient values from 0 to 255\n",
        "train_images = train_images / 255\n",
        "test_images = test_images / 255\n",
        "\n",
        "# Add an extra dimension for convolution channels\n",
        "train_images = np.array(train_images[..., tf.newaxis], requires_grad=False)\n",
        "test_images = np.array(test_images[..., tf.newaxis], requires_grad=False)"
      ],
      "metadata": {
        "id": "hRQi2Uc5Uh7R",
        "colab": {
          "base_uri": "https://localhost:8080/"
        },
        "outputId": "0ae434ac-c021-4312-f363-f891ec3d2c1a"
      },
      "execution_count": null,
      "outputs": [
        {
          "output_type": "stream",
          "name": "stdout",
          "text": [
            "Downloading data from https://storage.googleapis.com/tensorflow/tf-keras-datasets/mnist.npz\n",
            "\u001b[1m11490434/11490434\u001b[0m \u001b[32m━━━━━━━━━━━━━━━━━━━━\u001b[0m\u001b[37m\u001b[0m \u001b[1m0s\u001b[0m 0us/step\n"
          ]
        }
      ]
    },
    {
      "cell_type": "markdown",
      "source": [
        "## Using a Quantum Circuit as a Convolutional Kernel"
      ],
      "metadata": {
        "id": "T3CXLbRtU03D"
      }
    },
    {
      "cell_type": "markdown",
      "source": [
        "Our quantum circuit consists of\n",
        "1. an embedding layer of local Ry rotations (angles scaled by a factor of $\\pi$)\n",
        "2. a random circuit of n_layers\n",
        "3. a final measurement in the computational basis, estimating 4 expectation values\n",
        "\n",
        "This circuit will be executed on Pennylane's \"default.qubit\" simulator, established by the QNode set in the following code block."
      ],
      "metadata": {
        "id": "idusa0heDImO"
      }
    },
    {
      "cell_type": "code",
      "source": [
        "# Set our quantum device (in this case, a Pennylane simulator)\n",
        "dev = qml.device(\"default.qubit\", wires=4)\n",
        "\n",
        "# Random circuit parameters\n",
        "rand_params = np.random.uniform(high=2 * np.pi, size=(n_layers, 4))\n",
        "\n",
        "# Establish a qnode for our device\n",
        "@qml.qnode(dev)\n",
        "\n",
        "# Define our circuit function\n",
        "def circuit(phi):\n",
        "    \"\"\"Set up the random quantum circuit, including application of an RY gate to encode our data.\n",
        "\n",
        "    Args:\n",
        "        phi (float): Value by which we want to multiply pi to perform a rotation\n",
        "          about the y-axis.\n",
        "\n",
        "    Returns:\n",
        "        tensor: The expectation value of PauliZ.\n",
        "    \"\"\"\n",
        "\n",
        "    # Encode of 4 classical input values\n",
        "    for j in range(4):\n",
        "        qml.RY(np.pi * phi[j], wires=j)\n",
        "\n",
        "    # Random quantum circuit\n",
        "    RandomLayers(rand_params, wires=list(range(4)))\n",
        "\n",
        "    # Measurement producing 4 classical output values for our 4 output channels\n",
        "    return [qml.expval(qml.PauliZ(j)) for j in range(4)]"
      ],
      "metadata": {
        "id": "yQcMG6es1vav"
      },
      "execution_count": null,
      "outputs": []
    },
    {
      "cell_type": "markdown",
      "source": [
        "This next part defines how our convolution works:\n",
        "1. The image is broken down in 2x2-pixel squares.\n",
        "2. Each of these 2x2 squares is then processed.\n",
        "3. The resulting 4 expectation values are subsequently mapped into 4 different channels of a single pixel for the output.\n",
        "\n",
        "This process reduces the resolution of the input image by half, corresponding to a stride of 2 with a 2x2 kernel convolution."
      ],
      "metadata": {
        "id": "5Khf6JIlEH-9"
      }
    },
    {
      "cell_type": "code",
      "source": [
        "# Define quanv function\n",
        "def quanv(image):\n",
        "    \"\"\"Convolves the input image with many applications of the same quantum circuit.\"\"\"\n",
        "\n",
        "    # Set an array of zeros to be filled in later with actual data\n",
        "    out = np.zeros((14, 14, 4))\n",
        "\n",
        "    # Loop over coordinates of the top-left pixel of 2x2 squares\n",
        "    for j in range(0, 28, 2):\n",
        "        for k in range(0, 28, 2):\n",
        "            # Process a squared 2x2 region of the image with a quantum circuit\n",
        "            q_results = circuit(\n",
        "                [\n",
        "                    image[j, k, 0],                 # top left\n",
        "                    image[j, k + 1, 0],             # top right\n",
        "                    image[j + 1, k, 0],             # bottom left\n",
        "                    image[j + 1, k + 1, 0]          # bottom right\n",
        "                ]\n",
        "            )\n",
        "            # Assign expectation values to different channels of the output pixel (j/2, k/2)\n",
        "            for c in range(4):\n",
        "                out[j // 2, k // 2, c] = q_results[c]\n",
        "    return out"
      ],
      "metadata": {
        "id": "9x6m3A4rU_ZI"
      },
      "execution_count": null,
      "outputs": []
    },
    {
      "cell_type": "markdown",
      "source": [
        "### Pre-Processing the Data (Images)"
      ],
      "metadata": {
        "id": "6rrHGI42VGOz"
      }
    },
    {
      "cell_type": "markdown",
      "source": [
        "It is more efficient to use the quantum layer as a pre-processing layer for the image data instead of training it as a convolutional layer, so that's exactly what we'll do next. It's the classical layer(s) which will be trained and tested to avoid unnecessary repetitions of quantum computations (on our simulator or on a real device should we choose to use it).\n",
        "\n",
        "Note: Since we are preprocessing the images below and saving them in another folder, by changing \"PREPROCESS == TRUE\" to \"PREPROCESS == FALSE\" in our hyperparameter setup (near the beginning of this notebook), we can avoid preprocessing the data each subsequent time the code is run."
      ],
      "metadata": {
        "id": "0p-VnumY1du7"
      }
    },
    {
      "cell_type": "code",
      "source": [
        "# Only pre-process if \"PREPROCESS\" is set to \"True\", which we did in our hyper-parameter setup code block\n",
        "if PREPROCESS == True:\n",
        "    # Create an empty list to which we'll append our training data\n",
        "    q_train_images = []\n",
        "    print(\"Quantum pre-processing of train images:\")\n",
        "    # Enumerate over index and image in the training data\n",
        "    for idx, img in enumerate(train_images):\n",
        "        print(\"{}/{}        \".format(idx + 1, n_train), end=\"\\r\")\n",
        "        # Append convoluted image data to list\n",
        "        q_train_images.append(quanv(img))\n",
        "    # Convert list to a numpy array\n",
        "    q_train_images = np.asarray(q_train_images)\n",
        "\n",
        "    # Create an empty list to which we'll append our test data\n",
        "    q_test_images = []\n",
        "    print(\"\\nQuantum pre-processing of test images:\")\n",
        "    # Enumerate over index and image in the test data\n",
        "    for idx, img in enumerate(test_images):\n",
        "        print(\"{}/{}        \".format(idx + 1, n_test), end=\"\\r\")\n",
        "        # Append convoluted image data to list\n",
        "        q_test_images.append(quanv(img))\n",
        "    # Convert list to a numpy array\n",
        "    q_test_images = np.asarray(q_test_images)\n",
        "\n",
        "    # Save pre-processed images for both training and test datasets\n",
        "    np.save(SAVE_PATH + \"q_train_images.npy\", q_train_images)\n",
        "    np.save(SAVE_PATH + \"q_test_images.npy\", q_test_images)\n",
        "\n",
        "\n",
        "# Load pre-processed images from the directory in which we saved them\n",
        "q_train_images = np.load(SAVE_PATH + \"q_train_images.npy\")\n",
        "q_test_images = np.load(SAVE_PATH + \"q_test_images.npy\")"
      ],
      "metadata": {
        "colab": {
          "base_uri": "https://localhost:8080/"
        },
        "id": "xhSjkMNwVB_e",
        "outputId": "b761d293-fae9-4844-8c1d-da437d142c8e"
      },
      "execution_count": null,
      "outputs": [
        {
          "output_type": "stream",
          "name": "stdout",
          "text": [
            "Quantum pre-processing of train images:\n",
            "\n",
            "Quantum pre-processing of test images:\n"
          ]
        }
      ]
    },
    {
      "cell_type": "markdown",
      "source": [
        "### Visualizing the Effects of the Convolution (Input vs. Each Output Channel)"
      ],
      "metadata": {
        "id": "gajl2DcQ1Rqy"
      }
    },
    {
      "cell_type": "code",
      "source": [
        "# Set number of samples to be visualized and number of output channels\n",
        "n_samples = 4\n",
        "n_channels = 4\n",
        "\n",
        "# Create a figure with subplots\n",
        "fig, axes = plt.subplots(1 + n_channels, n_samples, figsize=(10, 10))\n",
        "\n",
        "# Loop over samples\n",
        "for k in range(n_samples):\n",
        "    axes[0, 0].set_ylabel(\"Input\")\n",
        "    if k != 0:\n",
        "        axes[0, k].yaxis.set_visible(False)\n",
        "    # Plot input impage\n",
        "    axes[0, k].imshow(train_images[k, :, :, 0], cmap=\"gray\")\n",
        "\n",
        "    # Loop over output channels\n",
        "    for c in range(n_channels):\n",
        "        axes[c + 1, 0].set_ylabel(\"Output [ch. {}]\".format(c))\n",
        "        if k != 0:\n",
        "            axes[c, k].yaxis.set_visible(False)\n",
        "        # Plot all output channel results\n",
        "        axes[c + 1, k].imshow(q_train_images[k, :, :, c], cmap=\"gray\")\n",
        "\n",
        "plt.tight_layout()\n",
        "plt.show()"
      ],
      "metadata": {
        "id": "uFoExezoVM2D",
        "colab": {
          "base_uri": "https://localhost:8080/",
          "height": 842
        },
        "outputId": "2c069c8b-6d2a-4fff-a5c0-ec2e86278224"
      },
      "execution_count": null,
      "outputs": [
        {
          "output_type": "display_data",
          "data": {
            "text/plain": [
              "<Figure size 1000x1000 with 20 Axes>"
            ],
            "image/png": "[encoded data removed]"
          },
          "metadata": {}
        }
      ]
    },
    {
      "cell_type": "markdown",
      "source": [
        "## Hybrid Quantum-Classical Model"
      ],
      "metadata": {
        "id": "vaqOEENFWqlD"
      }
    },
    {
      "cell_type": "markdown",
      "source": [
        "After the quantum convolutional layer, the resulting features are fed into the next layer, a classical neural network, that will be trained to classify the 10 digits in the dataset.\n",
        "\n",
        "This classical model is composed of a single layer with 10 output nodes and a softmax activation function. It is compiled with a stochastic-gradient-descent optimizer and a cross-entropy loss function."
      ],
      "metadata": {
        "id": "dkGjeo2L_q9K"
      }
    },
    {
      "cell_type": "code",
      "source": [
        "# Define the classical part of the model\n",
        "def MyModel():\n",
        "    \"\"\"Initializes and returns a custom Keras model\n",
        "    which is ready to be trained.\"\"\"\n",
        "    # Initialize the sequential model\n",
        "    model = keras.models.Sequential([ ##################\n",
        "        keras.layers.Flatten(), ##################\n",
        "        keras.layers.Dense(10, activation=\"softmax\") ##################\n",
        "    ])\n",
        "\n",
        "    # Compile the model\n",
        "    model.compile(\n",
        "        optimizer='adam', ##################\n",
        "        loss=\"sparse_categorical_crossentropy\", ##################\n",
        "        metrics=[\"accuracy\"], ##################\n",
        "    )\n",
        "    return model"
      ],
      "metadata": {
        "id": "RM6m1tREWt53"
      },
      "execution_count": null,
      "outputs": []
    },
    {
      "cell_type": "markdown",
      "source": [
        "### Training"
      ],
      "metadata": {
        "id": "ZVWOs39eWwM_"
      }
    },
    {
      "cell_type": "markdown",
      "source": [
        "We instantiate our model that we will use on the data that has been pre-processed by our quantum layer."
      ],
      "metadata": {
        "id": "pdai1nBYExCa"
      }
    },
    {
      "cell_type": "code",
      "source": [
        "# Establish quantum model\n",
        "q_model = MyModel()\n",
        "\n",
        "# Fit the model on the quantum training images + labels, referencing test data for validation, and using hyper-parameter specifications\n",
        "q_history = q_model.fit(\n",
        "    q_train_images,\n",
        "    train_labels,\n",
        "    validation_data=(q_test_images, test_labels),\n",
        "    batch_size=4,\n",
        "    epochs=n_epochs,\n",
        "    verbose=2,\n",
        ")"
      ],
      "metadata": {
        "id": "fo5wJXMmWxHP",
        "colab": {
          "base_uri": "https://localhost:8080/"
        },
        "outputId": "c69de44f-e4ff-44a3-de53-929fcda3d691"
      },
      "execution_count": null,
      "outputs": [
        {
          "output_type": "stream",
          "name": "stdout",
          "text": [
            "Epoch 1/30\n",
            "13/13 - 1s - 90ms/step - accuracy: 0.1400 - loss: 2.5600 - val_accuracy: 0.3000 - val_loss: 2.2651\n",
            "Epoch 2/30\n",
            "13/13 - 0s - 23ms/step - accuracy: 0.4000 - loss: 1.8211 - val_accuracy: 0.4000 - val_loss: 2.0344\n",
            "Epoch 3/30\n",
            "13/13 - 0s - 11ms/step - accuracy: 0.6000 - loss: 1.5478 - val_accuracy: 0.5000 - val_loss: 1.8809\n",
            "Epoch 4/30\n",
            "13/13 - 0s - 7ms/step - accuracy: 0.8000 - loss: 1.2462 - val_accuracy: 0.5667 - val_loss: 1.7354\n",
            "Epoch 5/30\n",
            "13/13 - 0s - 7ms/step - accuracy: 0.8800 - loss: 1.0268 - val_accuracy: 0.5667 - val_loss: 1.6174\n",
            "Epoch 6/30\n",
            "13/13 - 0s - 7ms/step - accuracy: 0.9400 - loss: 0.8564 - val_accuracy: 0.5667 - val_loss: 1.5348\n",
            "Epoch 7/30\n",
            "13/13 - 0s - 6ms/step - accuracy: 0.9600 - loss: 0.7196 - val_accuracy: 0.6000 - val_loss: 1.4656\n",
            "Epoch 8/30\n",
            "13/13 - 0s - 6ms/step - accuracy: 0.9600 - loss: 0.6099 - val_accuracy: 0.6333 - val_loss: 1.4058\n",
            "Epoch 9/30\n",
            "13/13 - 0s - 10ms/step - accuracy: 0.9600 - loss: 0.5211 - val_accuracy: 0.7000 - val_loss: 1.3570\n",
            "Epoch 10/30\n",
            "13/13 - 0s - 11ms/step - accuracy: 0.9800 - loss: 0.4495 - val_accuracy: 0.7000 - val_loss: 1.3174\n",
            "Epoch 11/30\n",
            "13/13 - 0s - 11ms/step - accuracy: 0.9800 - loss: 0.3909 - val_accuracy: 0.7000 - val_loss: 1.2840\n",
            "Epoch 12/30\n",
            "13/13 - 0s - 10ms/step - accuracy: 1.0000 - loss: 0.3426 - val_accuracy: 0.6667 - val_loss: 1.2558\n",
            "Epoch 13/30\n",
            "13/13 - 0s - 11ms/step - accuracy: 1.0000 - loss: 0.3025 - val_accuracy: 0.6667 - val_loss: 1.2321\n",
            "Epoch 14/30\n",
            "13/13 - 0s - 11ms/step - accuracy: 1.0000 - loss: 0.2690 - val_accuracy: 0.6667 - val_loss: 1.2118\n",
            "Epoch 15/30\n",
            "13/13 - 0s - 7ms/step - accuracy: 1.0000 - loss: 0.2408 - val_accuracy: 0.6667 - val_loss: 1.1944\n",
            "Epoch 16/30\n",
            "13/13 - 0s - 6ms/step - accuracy: 1.0000 - loss: 0.2169 - val_accuracy: 0.6667 - val_loss: 1.1793\n",
            "Epoch 17/30\n",
            "13/13 - 0s - 11ms/step - accuracy: 1.0000 - loss: 0.1964 - val_accuracy: 0.6667 - val_loss: 1.1660\n",
            "Epoch 18/30\n",
            "13/13 - 0s - 10ms/step - accuracy: 1.0000 - loss: 0.1788 - val_accuracy: 0.6667 - val_loss: 1.1543\n",
            "Epoch 19/30\n",
            "13/13 - 0s - 6ms/step - accuracy: 1.0000 - loss: 0.1636 - val_accuracy: 0.6667 - val_loss: 1.1440\n",
            "Epoch 20/30\n",
            "13/13 - 0s - 10ms/step - accuracy: 1.0000 - loss: 0.1503 - val_accuracy: 0.6667 - val_loss: 1.1347\n",
            "Epoch 21/30\n",
            "13/13 - 0s - 7ms/step - accuracy: 1.0000 - loss: 0.1386 - val_accuracy: 0.6667 - val_loss: 1.1263\n",
            "Epoch 22/30\n",
            "13/13 - 0s - 6ms/step - accuracy: 1.0000 - loss: 0.1283 - val_accuracy: 0.6667 - val_loss: 1.1188\n",
            "Epoch 23/30\n",
            "13/13 - 0s - 9ms/step - accuracy: 1.0000 - loss: 0.1192 - val_accuracy: 0.6667 - val_loss: 1.1119\n",
            "Epoch 24/30\n",
            "13/13 - 0s - 9ms/step - accuracy: 1.0000 - loss: 0.1111 - val_accuracy: 0.6667 - val_loss: 1.1057\n",
            "Epoch 25/30\n",
            "13/13 - 0s - 10ms/step - accuracy: 1.0000 - loss: 0.1038 - val_accuracy: 0.6667 - val_loss: 1.1000\n",
            "Epoch 26/30\n",
            "13/13 - 0s - 11ms/step - accuracy: 1.0000 - loss: 0.0973 - val_accuracy: 0.6667 - val_loss: 1.0947\n",
            "Epoch 27/30\n",
            "13/13 - 0s - 11ms/step - accuracy: 1.0000 - loss: 0.0914 - val_accuracy: 0.6667 - val_loss: 1.0899\n",
            "Epoch 28/30\n",
            "13/13 - 0s - 10ms/step - accuracy: 1.0000 - loss: 0.0860 - val_accuracy: 0.6667 - val_loss: 1.0854\n",
            "Epoch 29/30\n",
            "13/13 - 0s - 6ms/step - accuracy: 1.0000 - loss: 0.0812 - val_accuracy: 0.6667 - val_loss: 1.0813\n",
            "Epoch 30/30\n",
            "13/13 - 0s - 12ms/step - accuracy: 1.0000 - loss: 0.0767 - val_accuracy: 0.6667 - val_loss: 1.0775\n"
          ]
        }
      ]
    },
    {
      "cell_type": "markdown",
      "source": [
        "Next, we will instantiate our purely classical model with our initial image data (not the data that has been pre-processed by a quantum later as above)."
      ],
      "metadata": {
        "id": "ZRbCULZyFWzW"
      }
    },
    {
      "cell_type": "code",
      "source": [
        "# Establish our classical model\n",
        "c_model = MyModel()\n",
        "\n",
        "# Similar to the quantum model but using original \"train_images\" and \"test_images\" as opposed to \"q_train_images\" or \"q_test_images\" as the quantum did\n",
        "c_history = c_model.fit(\n",
        "    train_images,\n",
        "    train_labels,\n",
        "    validation_data=(test_images, test_labels),\n",
        "    batch_size=4,\n",
        "    epochs=n_epochs,\n",
        "    verbose=2,\n",
        ")"
      ],
      "metadata": {
        "id": "gf23pyWvW2Rg",
        "colab": {
          "base_uri": "https://localhost:8080/"
        },
        "outputId": "b8ccfe44-b4e1-4d39-e4ec-0b2c90ff403d"
      },
      "execution_count": null,
      "outputs": [
        {
          "output_type": "stream",
          "name": "stdout",
          "text": [
            "Epoch 1/30\n",
            "13/13 - 1s - 67ms/step - accuracy: 0.1600 - loss: 2.3883 - val_accuracy: 0.2000 - val_loss: 2.1667\n",
            "Epoch 2/30\n",
            "13/13 - 0s - 8ms/step - accuracy: 0.4400 - loss: 1.9808 - val_accuracy: 0.2333 - val_loss: 2.0329\n",
            "Epoch 3/30\n",
            "13/13 - 0s - 10ms/step - accuracy: 0.6000 - loss: 1.6960 - val_accuracy: 0.3333 - val_loss: 1.9055\n",
            "Epoch 4/30\n",
            "13/13 - 0s - 13ms/step - accuracy: 0.6800 - loss: 1.4588 - val_accuracy: 0.4333 - val_loss: 1.7863\n",
            "Epoch 5/30\n",
            "13/13 - 0s - 9ms/step - accuracy: 0.7600 - loss: 1.2587 - val_accuracy: 0.4667 - val_loss: 1.6816\n",
            "Epoch 6/30\n",
            "13/13 - 0s - 10ms/step - accuracy: 0.8200 - loss: 1.0916 - val_accuracy: 0.5333 - val_loss: 1.5930\n",
            "Epoch 7/30\n",
            "13/13 - 0s - 10ms/step - accuracy: 0.9200 - loss: 0.9526 - val_accuracy: 0.5667 - val_loss: 1.5186\n",
            "Epoch 8/30\n",
            "13/13 - 0s - 12ms/step - accuracy: 0.9200 - loss: 0.8368 - val_accuracy: 0.6333 - val_loss: 1.4561\n",
            "Epoch 9/30\n",
            "13/13 - 0s - 9ms/step - accuracy: 0.9600 - loss: 0.7397 - val_accuracy: 0.6333 - val_loss: 1.4031\n",
            "Epoch 10/30\n",
            "13/13 - 0s - 14ms/step - accuracy: 0.9600 - loss: 0.6578 - val_accuracy: 0.6333 - val_loss: 1.3578\n",
            "Epoch 11/30\n",
            "13/13 - 0s - 19ms/step - accuracy: 1.0000 - loss: 0.5881 - val_accuracy: 0.6667 - val_loss: 1.3189\n",
            "Epoch 12/30\n",
            "13/13 - 0s - 9ms/step - accuracy: 1.0000 - loss: 0.5286 - val_accuracy: 0.6667 - val_loss: 1.2852\n",
            "Epoch 13/30\n",
            "13/13 - 0s - 11ms/step - accuracy: 1.0000 - loss: 0.4772 - val_accuracy: 0.6667 - val_loss: 1.2560\n",
            "Epoch 14/30\n",
            "13/13 - 0s - 12ms/step - accuracy: 1.0000 - loss: 0.4327 - val_accuracy: 0.6667 - val_loss: 1.2305\n",
            "Epoch 15/30\n",
            "13/13 - 0s - 21ms/step - accuracy: 1.0000 - loss: 0.3940 - val_accuracy: 0.6667 - val_loss: 1.2083\n",
            "Epoch 16/30\n",
            "13/13 - 0s - 10ms/step - accuracy: 1.0000 - loss: 0.3601 - val_accuracy: 0.6667 - val_loss: 1.1887\n",
            "Epoch 17/30\n",
            "13/13 - 0s - 9ms/step - accuracy: 1.0000 - loss: 0.3302 - val_accuracy: 0.6667 - val_loss: 1.1714\n",
            "Epoch 18/30\n",
            "13/13 - 0s - 36ms/step - accuracy: 1.0000 - loss: 0.3039 - val_accuracy: 0.7000 - val_loss: 1.1560\n",
            "Epoch 19/30\n",
            "13/13 - 0s - 33ms/step - accuracy: 1.0000 - loss: 0.2805 - val_accuracy: 0.7000 - val_loss: 1.1424\n",
            "Epoch 20/30\n",
            "13/13 - 0s - 10ms/step - accuracy: 1.0000 - loss: 0.2597 - val_accuracy: 0.7000 - val_loss: 1.1302\n",
            "Epoch 21/30\n",
            "13/13 - 0s - 12ms/step - accuracy: 1.0000 - loss: 0.2411 - val_accuracy: 0.7333 - val_loss: 1.1193\n",
            "Epoch 22/30\n",
            "13/13 - 0s - 11ms/step - accuracy: 1.0000 - loss: 0.2244 - val_accuracy: 0.7333 - val_loss: 1.1095\n",
            "Epoch 23/30\n",
            "13/13 - 0s - 21ms/step - accuracy: 1.0000 - loss: 0.2094 - val_accuracy: 0.7333 - val_loss: 1.1006\n",
            "Epoch 24/30\n",
            "13/13 - 0s - 9ms/step - accuracy: 1.0000 - loss: 0.1959 - val_accuracy: 0.7333 - val_loss: 1.0926\n",
            "Epoch 25/30\n",
            "13/13 - 0s - 8ms/step - accuracy: 1.0000 - loss: 0.1836 - val_accuracy: 0.7333 - val_loss: 1.0853\n",
            "Epoch 26/30\n",
            "13/13 - 0s - 11ms/step - accuracy: 1.0000 - loss: 0.1725 - val_accuracy: 0.7333 - val_loss: 1.0787\n",
            "Epoch 27/30\n",
            "13/13 - 0s - 10ms/step - accuracy: 1.0000 - loss: 0.1624 - val_accuracy: 0.7333 - val_loss: 1.0726\n",
            "Epoch 28/30\n",
            "13/13 - 0s - 12ms/step - accuracy: 1.0000 - loss: 0.1531 - val_accuracy: 0.7333 - val_loss: 1.0671\n",
            "Epoch 29/30\n",
            "13/13 - 0s - 10ms/step - accuracy: 1.0000 - loss: 0.1447 - val_accuracy: 0.7333 - val_loss: 1.0620\n",
            "Epoch 30/30\n",
            "13/13 - 0s - 10ms/step - accuracy: 1.0000 - loss: 0.1369 - val_accuracy: 0.7333 - val_loss: 1.0574\n"
          ]
        }
      ]
    },
    {
      "cell_type": "markdown",
      "source": [
        "## Results"
      ],
      "metadata": {
        "id": "Dl4IVJ0HW4W0"
      }
    },
    {
      "cell_type": "markdown",
      "source": [
        "We now want to visualize how the accuracy and loss changed with each epoch, so we will use MatPlotLib's PyPlot to help us visually compare."
      ],
      "metadata": {
        "id": "WGBvcKKgFzLP"
      }
    },
    {
      "cell_type": "code",
      "source": [
        "# Use seaborn style of pyplot\n",
        "plt.style.use(\"seaborn\")\n",
        "fig, (ax1, ax2) = plt.subplots(2, 1, figsize=(6, 9))\n",
        "\n",
        "# Plot the accuracy across the epochs to visualize the change\n",
        "_ = ax1.plot(q_history.history[\"val_accuracy\"], \"-ob\", label=\"With quantum layer\")\n",
        "_ = ax1.plot(c_history.history[\"val_accuracy\"], \"-og\", label=\"Without quantum layer\")\n",
        "_ = ax1.set_ylabel(\"Accuracy\")\n",
        "_ = ax1.set_ylim([0, 1])\n",
        "_ = ax1.set_xlabel(\"Epoch\")\n",
        "_ = ax1.legend()\n",
        "\n",
        "# Plot the loss across the epochs to visualize the change\n",
        "_ = ax2.plot(q_history.history[\"val_loss\"], \"-ob\", label=\"With quantum layer\")\n",
        "_ = ax2.plot(c_history.history[\"val_loss\"], \"-og\", label=\"Without quantum layer\")\n",
        "_ = ax2.set_ylabel(\"Loss\")\n",
        "_ = ax2.set_ylim(top=2.5)\n",
        "_ = ax2.set_xlabel(\"Epoch\")\n",
        "_ = ax2.legend()\n",
        "plt.tight_layout()\n",
        "plt.show()"
      ],
      "metadata": {
        "id": "ISTQPuh2W7xe",
        "colab": {
          "base_uri": "https://localhost:8080/",
          "height": 962
        },
        "outputId": "87cc4180-e5ca-4a39-9aff-994a1431064c"
      },
      "execution_count": null,
      "outputs": [
        {
          "output_type": "stream",
          "name": "stderr",
          "text": [
            "<ipython-input-15-f47210500fd2>:2: MatplotlibDeprecationWarning: The seaborn styles shipped by Matplotlib are deprecated since 3.6, as they no longer correspond to the styles shipped by seaborn. However, they will remain available as 'seaborn-v0_8-<style>'. Alternatively, directly use the seaborn API instead.\n",
            "  plt.style.use(\"seaborn\")\n"
          ]
        },
        {
          "output_type": "display_data",
          "data": {
            "text/plain": [
              "<Figure size 600x900 with 2 Axes>"
            ],
            "image/png": "[encoded data removed]"
          },
          "metadata": {}
        }
      ]
    }
  ]
}